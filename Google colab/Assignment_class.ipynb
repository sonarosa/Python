{
  "nbformat": 4,
  "nbformat_minor": 0,
  "metadata": {
    "colab": {
      "name": "Assignment_class.ipynb",
      "provenance": [],
      "collapsed_sections": []
    },
    "kernelspec": {
      "name": "python3",
      "display_name": "Python 3"
    },
    "language_info": {
      "name": "python"
    }
  },
  "cells": [
    {
      "cell_type": "markdown",
      "source": [
        "# **ASSIGNMENT**\n",
        "\n"
      ],
      "metadata": {
        "id": "ryeBaL-E_e8a"
      }
    },
    {
      "cell_type": "markdown",
      "source": [
        "***1.How to create class and objects?***\n",
        "\n",
        "**Class:**A user defined prototype for an object that defines a set of attributes\n",
        "(data members) that charecterize any object of the class.\n",
        "\n",
        "* Data members can be accessed by dot notation(.)\n",
        "\n",
        "**Syntax:**\n",
        "```\n",
        "class <class name>:\n",
        "      :    \n",
        "  Attributes\n",
        "      :     \n",
        "  def <function name>:\n",
        "       :     \n",
        "       statements\n",
        "       :      \n",
        "\n",
        "```\n",
        "\n",
        "\n",
        "**Object:**A unique instance of a data structure that is defined by its class .\n",
        "An object comprises both data members  and methods.\n",
        "* When an object of class is created, the class is said to be intiated.\n",
        "* All instances share the attributes, ie. the state are unique for each object.\n",
        "\n",
        "**Syntax:**\n",
        "\n",
        "\n",
        "```\n",
        "class <class name>:\n",
        "\n",
        " #attributes\n",
        " attribute 1\n",
        " attribute 2\n",
        "\n",
        "def <function name>:\n",
        "   :    \n",
        " function body\n",
        "   :     \n",
        "#object instantiation\n",
        " object=<class name>\n",
        "\n",
        " #accessing class attributes \n",
        " object.<function name>\n",
        "```\n",
        "\n",
        "\n",
        "\n",
        "**Example:**\n"
      ],
      "metadata": {
        "id": "BNpS8R5__svt"
      }
    },
    {
      "cell_type": "code",
      "execution_count": null,
      "metadata": {
        "colab": {
          "base_uri": "https://localhost:8080/"
        },
        "id": "c9x1Sdaf-gSM",
        "outputId": "38006471-4722-487a-f6cf-c57ebb2a17cb"
      },
      "outputs": [
        {
          "output_type": "stream",
          "name": "stdout",
          "text": [
            "Roll no of student 1: 1\n",
            "Name of student 1: Priya\n",
            "Roll no of student 2: 2\n",
            "Name of student 2: Rahul\n"
          ]
        }
      ],
      "source": [
        "class Student:\n",
        "  roll_no1=1\n",
        "  roll_no2=2\n",
        "  St_name1=\"Priya\"\n",
        "  St_name2=\"Rahul\"\n",
        "\n",
        "  def details(self):\n",
        "    print(\"Roll no of student 1:\",self.roll_no1)\n",
        "    print(\"Name of student 1:\",self.St_name1)\n",
        "    print(\"Roll no of student 2:\",self.roll_no2)\n",
        "    print(\"Name of student 2:\",self.St_name2)\n",
        "S=Student()\n",
        "\n",
        "S.details()"
      ]
    },
    {
      "cell_type": "markdown",
      "source": [
        "***2.How to define public,private and protected?***\n",
        "\n",
        "There are three forms of access modifiers which are **public**,**protected** and **private** in a class."
      ],
      "metadata": {
        "id": "gbXcXTmtH2f5"
      }
    },
    {
      "cell_type": "markdown",
      "source": [
        "**1.Public access modifier:**\n",
        "\n",
        "The members of a class that are declared public are easily accessible from any part of the program.\n",
        "\n",
        "* All data members and member functions of a class are public by default.\n",
        "* The objectof same class is required to invoke a public function.\n",
        "* Any member \n",
        " \n",
        " **syntax:**\n",
        "\n",
        "\n",
        "```\n",
        "class <classname>:\n",
        "     :    \n",
        "  attributes\n",
        "     :    \n",
        "  def __init__(<argument 1>,<argument 2>,\n",
        "  \n",
        "  ....<argument 3>):\n",
        "     :    \n",
        "<function body> #here is where access modifier specified ie,for public\n",
        " self.attr1=attr1 #public\n",
        " self.attr2=attr2 #public\n",
        "     :\n",
        "       \n",
        "```\n",
        "\n"
      ],
      "metadata": {
        "id": "HJlw9VtRLO7H"
      }
    },
    {
      "cell_type": "markdown",
      "source": [
        "**2.Protected Access modifiers**\n",
        "Protected members are accessible from within the class and re also available to subclasses.\n",
        "\n",
        "Convention to make an instance variable **protected** is to add prefix **(_) underscore **to it.\n",
        "\n",
        "It doesnt prevent from accessing or modifying the instance.\n",
        "\n",
        "**syntax:**\n",
        "\n",
        "\n",
        "```\n",
        "class <classname>:\n",
        "     :    \n",
        "  attributes\n",
        "     :    \n",
        "  def __init__(<argument 1>,<argument 2>,\n",
        "\n",
        "  ....<argument 3>):\n",
        "     :    \n",
        "<function body> #here is where access modifier specified ie,for protected:\n",
        " self._attr1=attr1 #protected\n",
        " self._attr2=attr2 #protected\n",
        "```\n",
        "\n"
      ],
      "metadata": {
        "id": "K-vbB1R0jVQl"
      }
    },
    {
      "cell_type": "markdown",
      "source": [
        "**3.Private Access modifiers**\n",
        "**Private members** effectively restricts access to any instance variable or method. \n",
        "\n",
        "Python prescribes a convention of prefixing the name of the variable/method with a **single** or **double underscore** to emulate the behavior of **protected** and **private** access specifiers.\n",
        "\n",
        "The **double underscore (__)** prefixed to a variable makes it private. It gives a strong suggestion not to touch it from outside the class. \n",
        "\n",
        "Any attempt to do so will result in an AttributeError:\n",
        "\n",
        "**syntax:**\n",
        "\n",
        "\n",
        "```\n",
        "class <classname>:\n",
        "     :    \n",
        "  attributes\n",
        "     :    \n",
        "  def __init__(<argument 1>,<argument 2>,\n",
        "\n",
        "  ....<argument 3>):\n",
        "     :    \n",
        "<function body>  # here is where access modifier specified ie,for private:\n",
        " self.__attr1=attr1 #private\n",
        " self.__attr2=attr2 #private\n",
        "```\n",
        "\n",
        "Example to show use of **public**and **protected:**\n"
      ],
      "metadata": {
        "id": "FNbn1bRql_4V"
      }
    },
    {
      "cell_type": "code",
      "source": [
        "class student:\n",
        "  def __init__(self,rollno,name):\n",
        "    self.rollno=rollno #public\n",
        "    self._name=name   #protected\n",
        "\n",
        "S1=student(1,\"Priya\")\n",
        "print(S1.rollno)\n",
        "print(S1._name)\n"
      ],
      "metadata": {
        "colab": {
          "base_uri": "https://localhost:8080/",
          "height": 0
        },
        "id": "w-gvTynwjW3_",
        "outputId": "c3c15bd6-0ceb-4bce-c341-76236ee35c15"
      },
      "execution_count": 2,
      "outputs": [
        {
          "output_type": "stream",
          "name": "stdout",
          "text": [
            "1\n",
            "Priya\n"
          ]
        }
      ]
    },
    {
      "cell_type": "markdown",
      "source": [
        "Example of **protected**:"
      ],
      "metadata": {
        "id": "0Gh7uQeloTVb"
      }
    },
    {
      "cell_type": "code",
      "source": [
        "class student:\n",
        "  def __init__(self,rollno,name,marks):\n",
        "    self.rollno=rollno #public\n",
        "    self._name=name   #protected\n",
        "    self.__marks=marks #private\n",
        "S1=student(1,\"Priya\",80)\n",
        "print(S1.rollno)  #public:can be accessed\n",
        "print(S1._name)   #protected:can be accessed but not advised\n",
        "print(S1.__marks)  #private: will give Attributeerror"
      ],
      "metadata": {
        "colab": {
          "base_uri": "https://localhost:8080/",
          "height": 234
        },
        "id": "QoUgcjEhoXu7",
        "outputId": "5aeee95a-72a1-4ab5-c7eb-d046c6ffa396"
      },
      "execution_count": 4,
      "outputs": [
        {
          "output_type": "stream",
          "name": "stdout",
          "text": [
            "1\n",
            "Priya\n"
          ]
        },
        {
          "output_type": "error",
          "ename": "AttributeError",
          "evalue": "ignored",
          "traceback": [
            "\u001b[0;31m---------------------------------------------------------------------------\u001b[0m",
            "\u001b[0;31mAttributeError\u001b[0m                            Traceback (most recent call last)",
            "\u001b[0;32m<ipython-input-4-6ded8c473b72>\u001b[0m in \u001b[0;36m<module>\u001b[0;34m()\u001b[0m\n\u001b[1;32m      7\u001b[0m \u001b[0mprint\u001b[0m\u001b[0;34m(\u001b[0m\u001b[0mS1\u001b[0m\u001b[0;34m.\u001b[0m\u001b[0mrollno\u001b[0m\u001b[0;34m)\u001b[0m\u001b[0;34m\u001b[0m\u001b[0;34m\u001b[0m\u001b[0m\n\u001b[1;32m      8\u001b[0m \u001b[0mprint\u001b[0m\u001b[0;34m(\u001b[0m\u001b[0mS1\u001b[0m\u001b[0;34m.\u001b[0m\u001b[0m_name\u001b[0m\u001b[0;34m)\u001b[0m\u001b[0;34m\u001b[0m\u001b[0;34m\u001b[0m\u001b[0m\n\u001b[0;32m----> 9\u001b[0;31m \u001b[0mprint\u001b[0m\u001b[0;34m(\u001b[0m\u001b[0mS1\u001b[0m\u001b[0;34m.\u001b[0m\u001b[0m__marks\u001b[0m\u001b[0;34m)\u001b[0m\u001b[0;34m\u001b[0m\u001b[0;34m\u001b[0m\u001b[0m\n\u001b[0m",
            "\u001b[0;31mAttributeError\u001b[0m: 'student' object has no attribute '__marks'"
          ]
        }
      ]
    },
    {
      "cell_type": "markdown",
      "source": [
        "***3.How to implement inheritance?***\n",
        "\n",
        "\n",
        "Inheritance is the capability of one class to derive or inherit the properties from another class. The benefits of inheritance are: \n",
        " \n",
        "\n",
        "* It represents real-world relationships well.\n",
        "* It provides reusability of a code. We don’t have to write the same code again and again. Also, it allows us to add more features to a class without modifying it.\n",
        "* It is transitive in nature, which means that if class B inherits from another class A, then all the subclasses of B would automatically inherit from class A.\n",
        "\n",
        "**syntax:**\n",
        "\n",
        "\n",
        "```\n",
        "class <derived classname>-class <base class>:\n",
        "  <class suite>\n",
        "\n",
        "```\n",
        "To inherit multiple classes by mentioning all of them inside the bracket.\n",
        "\n",
        "**syntax:**\n",
        "\n",
        "\n",
        "```\n",
        "class <derived classname>-class(<base class1>,<base class 2>,....<base class n>):\n",
        "   <class suite>\n",
        "```\n",
        "Example:\n",
        "\n",
        "\n",
        "\n"
      ],
      "metadata": {
        "id": "_sfOr6hApVXt"
      }
    },
    {
      "cell_type": "code",
      "source": [
        "class Student: #base class\n",
        "  def absent(self):\n",
        "    print(\"Most of students are absent!\")\n",
        "class Teacher(Student): #derived class\n",
        "  def present(self):\n",
        "    print(\"Only 10 out of 30 students are present\")\n",
        "  # derived class Teacher inherits the base class Student\n",
        "S=Teacher()\n",
        "S.present()\n",
        "S.absent()\n"
      ],
      "metadata": {
        "colab": {
          "base_uri": "https://localhost:8080/",
          "height": 0
        },
        "id": "82nA-G4rrAGL",
        "outputId": "5d948a4e-1935-40b0-b244-cfece1e81f45"
      },
      "execution_count": 6,
      "outputs": [
        {
          "output_type": "stream",
          "name": "stdout",
          "text": [
            "Only 10 out of 30 students are present\n",
            "Most of students are absent!\n"
          ]
        }
      ]
    }
  ]
}