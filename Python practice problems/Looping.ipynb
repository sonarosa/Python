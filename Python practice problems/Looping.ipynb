{
  "nbformat": 4,
  "nbformat_minor": 0,
  "metadata": {
    "colab": {
      "name": "Looping.ipynb",
      "provenance": [],
      "collapsed_sections": []
    },
    "kernelspec": {
      "name": "python3",
      "display_name": "Python 3"
    },
    "language_info": {
      "name": "python"
    }
  },
  "cells": [
    {
      "cell_type": "markdown",
      "source": [
        "#**Looping problems**#"
      ],
      "metadata": {
        "id": "EGMOLxqx8KFi"
      }
    },
    {
      "cell_type": "markdown",
      "source": [
        "**1.Check whether number is amstrong or not**"
      ],
      "metadata": {
        "id": "gIzq0dKM8irf"
      }
    },
    {
      "cell_type": "code",
      "execution_count": null,
      "metadata": {
        "colab": {
          "base_uri": "https://localhost:8080/"
        },
        "id": "VC_jN3Np8HP_",
        "outputId": "b0cfc12b-6335-4687-f0f5-928f52b4b6d8"
      },
      "outputs": [
        {
          "output_type": "stream",
          "name": "stdout",
          "text": [
            "Enter a number:153\n",
            "It is a amstrong number\n"
          ]
        }
      ],
      "source": [
        "sum=0\n",
        "count=0\n",
        "n=int(input(\"Enter a number:\"))\n",
        "temp=n\n",
        "while temp>0:\n",
        "  count=count+1\n",
        "  temp//=10\n",
        "temp=n\n",
        "while temp>0:\n",
        "  digit=temp%10\n",
        "  sum+=(digit**count)\n",
        "  temp//=10\n",
        "if n==sum:\n",
        "  print(\"It is a amstrong number\")\n",
        "else:\n",
        " print(\"Not a amstrong number\")\n"
      ]
    },
    {
      "cell_type": "markdown",
      "source": [
        "**2.To check whether number is automorphic or not**"
      ],
      "metadata": {
        "id": "lWzaGLmT-pDH"
      }
    },
    {
      "cell_type": "code",
      "source": [
        "num=int(input(\"Enter a number:\"))\n",
        "sq=num*num\n",
        "f=0\n",
        "while(num>0):\n",
        "  if (num%10!=sq%10):\n",
        "    print(\"Not a Automorphic number\")\n",
        "    f=1\n",
        "    break\n",
        "  num=num//10\n",
        "  sq=sq//10\n",
        "if(f==0):\n",
        "   print(\"Automorphic number\")\n",
        " \n",
        "    \n",
        " \n"
      ],
      "metadata": {
        "colab": {
          "base_uri": "https://localhost:8080/"
        },
        "id": "_oIgNbNn-s6g",
        "outputId": "8397e1eb-befc-4ae8-b022-e2ac4c04b82a"
      },
      "execution_count": null,
      "outputs": [
        {
          "output_type": "stream",
          "name": "stdout",
          "text": [
            "Enter a number:25\n",
            "Automorphic number\n"
          ]
        }
      ]
    },
    {
      "cell_type": "markdown",
      "source": [
        "**3.To read a binary number and print its decimal equivalent**"
      ],
      "metadata": {
        "id": "0zop2QfaCdl6"
      }
    },
    {
      "cell_type": "code",
      "source": [
        "b=0\n",
        "p=1\n",
        "d=int(input(\"Enter a number:\"))\n",
        "while(d>0):\n",
        "  b=b+(p*(d%2))\n",
        "  p=p*10\n",
        "  d//=2\n",
        "print(\"Equivalent decimal number:\",b)"
      ],
      "metadata": {
        "colab": {
          "base_uri": "https://localhost:8080/"
        },
        "id": "tUA17RqYCeH9",
        "outputId": "9a3d85c6-cb69-4435-c046-3c07665892c5"
      },
      "execution_count": null,
      "outputs": [
        {
          "output_type": "stream",
          "name": "stdout",
          "text": [
            "Enter a number:13\n",
            "Equivalent decimal number: 1101\n"
          ]
        }
      ]
    },
    {
      "cell_type": "markdown",
      "source": [
        "**4.To print n terms of a arithmetic sequence**"
      ],
      "metadata": {
        "id": "Ggg3JcUibkgM"
      }
    },
    {
      "cell_type": "code",
      "source": [
        "i=0\n",
        "a=int(input(\"Enter first number:\"))\n",
        "d=int(input(\"Enter common difference:\"))\n",
        "n=int(input(\"Enter number of elements:\"))\n",
        "print(\"Arithmetic series\")\n",
        "for i in range(0,n):\n",
        "  print(a)\n",
        "  a=a+d\n",
        "  "
      ],
      "metadata": {
        "colab": {
          "base_uri": "https://localhost:8080/"
        },
        "id": "61xxQ2-WblKm",
        "outputId": "5aa60f47-25c0-4fca-d71e-8e147c1faa5d"
      },
      "execution_count": null,
      "outputs": [
        {
          "output_type": "stream",
          "name": "stdout",
          "text": [
            "Enter first number:1\n",
            "Enter common difference:2\n",
            "Enter number of elements:5\n",
            "Arithmetic series\n",
            "1\n",
            "3\n",
            "5\n",
            "7\n",
            "9\n"
          ]
        }
      ]
    },
    {
      "cell_type": "markdown",
      "source": [
        "**5.Print factorial of a number**"
      ],
      "metadata": {
        "id": "zyTKCcXleQKq"
      }
    },
    {
      "cell_type": "code",
      "source": [
        "num=int(input(\"Enter the number:\"))\n",
        "if num>=0:\n",
        "  f=1\n",
        "  for i in range(1,num+1):\n",
        "    f=f*i\n",
        "    i+=1\n",
        "  print(\"Factorial of given number:\",f)\n",
        "else:\n",
        "  print(\"factorial does not exist\")\n"
      ],
      "metadata": {
        "colab": {
          "base_uri": "https://localhost:8080/"
        },
        "id": "lBT5d8-KeQxU",
        "outputId": "763ba7f5-fd20-47ce-82d6-af2dc0a971b3"
      },
      "execution_count": null,
      "outputs": [
        {
          "output_type": "stream",
          "name": "stdout",
          "text": [
            "Enter the number:6\n",
            "Factorial of given number: 720\n"
          ]
        }
      ]
    },
    {
      "cell_type": "markdown",
      "source": [
        "**6.Print fibonacci series**"
      ],
      "metadata": {
        "id": "8ZxsLsdvhbmU"
      }
    },
    {
      "cell_type": "code",
      "source": [
        "n1=0\n",
        "n2=1\n",
        "next=0\n",
        "n=int(input(\"Enter a number:\"))\n",
        "print(\"Fibonacci series\")\n",
        "for i in range(0,n):\n",
        " if (i==0):\n",
        "   next=n1\n",
        " elif (i==1):\n",
        "   next=n2\n",
        " else:\n",
        "    next=n1+n2\n",
        "    n1=n2\n",
        "    n2=next\n",
        " print(next,end=\" \")\n",
        "\n",
        " "
      ],
      "metadata": {
        "colab": {
          "base_uri": "https://localhost:8080/"
        },
        "id": "ky6ctITKhcKt",
        "outputId": "995c8928-9b95-40b5-94bd-ed3b908d7629"
      },
      "execution_count": null,
      "outputs": [
        {
          "output_type": "stream",
          "name": "stdout",
          "text": [
            "Enter a number:6\n",
            "Fibonacci series\n",
            "0 1 1 2 3 5 "
          ]
        }
      ]
    },
    {
      "cell_type": "markdown",
      "source": [
        "**7.Print GCD of two numbers**"
      ],
      "metadata": {
        "id": "CrsUj5SB7bKX"
      }
    },
    {
      "cell_type": "code",
      "source": [
        "n1=int(input(\"Enter first number:\"))\n",
        "n2=int(input(\"Enter second number:\"))\n",
        "for i in range(1,i<=n1 and i<=n2,1):\n",
        "  if (n1%i==0 and n2%i==0):\n",
        "    gcd=i\n",
        "print(\"GCD of two numbers is:\",gcd)"
      ],
      "metadata": {
        "colab": {
          "base_uri": "https://localhost:8080/"
        },
        "id": "4k1KRdq07bqu",
        "outputId": "ed900081-8df5-4019-f045-8f3cfb0a17a9"
      },
      "execution_count": null,
      "outputs": [
        {
          "output_type": "stream",
          "name": "stdout",
          "text": [
            "Enter first number:4\n",
            "Enter second number:2\n",
            "GCD of two numbers is: 1\n"
          ]
        }
      ]
    },
    {
      "cell_type": "markdown",
      "source": [
        "**8.Print first n odd numbers**"
      ],
      "metadata": {
        "id": "vFXJZyBL9lZj"
      }
    },
    {
      "cell_type": "code",
      "source": [
        "n=int(input(\"Enter a number:\"))\n",
        "for i in range(1,2*n):\n",
        "  if(i%2!=0):\n",
        "    print(i,end=\" \")"
      ],
      "metadata": {
        "colab": {
          "base_uri": "https://localhost:8080/"
        },
        "id": "FescC6Xq9l8B",
        "outputId": "b6bceb48-8464-4d29-b000-9c11b6cb4117"
      },
      "execution_count": null,
      "outputs": [
        {
          "output_type": "stream",
          "name": "stdout",
          "text": [
            "Enter a number:7\n",
            "1 3 5 7 9 11 13 "
          ]
        }
      ]
    },
    {
      "cell_type": "markdown",
      "source": [
        "**9.Check whether number is palindrome or not**"
      ],
      "metadata": {
        "id": "v8wZtLqS-wL6"
      }
    },
    {
      "cell_type": "code",
      "source": [
        "n=int(input(\"Enter a number:\"))\n",
        "sum=0\n",
        "temp=n\n",
        "while(n>0):\n",
        "  rev=n%10\n",
        "  sum=rev+(sum*10)\n",
        "  n=n//10\n",
        "if(temp==sum):\n",
        "  print(\"It is a palindrome number\")\n",
        "else: \n",
        "  print(\"Not a palindrome\")"
      ],
      "metadata": {
        "colab": {
          "base_uri": "https://localhost:8080/"
        },
        "id": "BCiVZlwY-wYo",
        "outputId": "5863fb09-a0a7-4d13-d2b5-fc309e4a5d06"
      },
      "execution_count": null,
      "outputs": [
        {
          "output_type": "stream",
          "name": "stdout",
          "text": [
            "Enter a number:1231\n",
            "Not a palindrome\n"
          ]
        }
      ]
    },
    {
      "cell_type": "markdown",
      "source": [
        "**10.Print squares of natural numbers between two numbers**"
      ],
      "metadata": {
        "id": "tNnL-8cm_30y"
      }
    },
    {
      "cell_type": "code",
      "source": [
        "m=int(input(\"Enter min limit:\"))\n",
        "n=int(input(\"Enter max limit:\"))\n",
        "for i in range(m,n+1):\n",
        "  sqr=i*i\n",
        "  print(sqr)\n"
      ],
      "metadata": {
        "colab": {
          "base_uri": "https://localhost:8080/"
        },
        "id": "gvti0uXr_4RE",
        "outputId": "30822a48-0d0b-4fd3-9571-5a973fe8b341"
      },
      "execution_count": null,
      "outputs": [
        {
          "output_type": "stream",
          "name": "stdout",
          "text": [
            "Enter min limit:1\n",
            "Enter max limit:3\n",
            "1\n",
            "4\n",
            "9\n"
          ]
        }
      ]
    },
    {
      "cell_type": "markdown",
      "source": [
        "**11.Evaluate x^n**"
      ],
      "metadata": {
        "id": "pjNf3VArAdyH"
      }
    },
    {
      "cell_type": "code",
      "source": [
        "power=1\n",
        "x=int(input(\"Enter base:\"))\n",
        "p=int(input(\"Enter exponent:\"))\n",
        "for i in range(0,p):\n",
        "  power=power*x\n",
        "print(\"Power of the number:\",power)\n",
        " "
      ],
      "metadata": {
        "colab": {
          "base_uri": "https://localhost:8080/"
        },
        "id": "u9lV_TD_AeK9",
        "outputId": "3a6d9c69-c8a4-49f4-a4f6-8edfb70e7edc"
      },
      "execution_count": null,
      "outputs": [
        {
          "output_type": "stream",
          "name": "stdout",
          "text": [
            "Enter base:3\n",
            "Enter exponent:3\n",
            "Power of the number: 27\n"
          ]
        }
      ]
    },
    {
      "cell_type": "markdown",
      "source": [
        "**12.To find reverse of a number**"
      ],
      "metadata": {
        "id": "vrr3ZOVIBO6h"
      }
    },
    {
      "cell_type": "code",
      "source": [
        "n=int(input(\"Enter a number:\"))\n",
        "rev=0\n",
        "while n!=0:\n",
        "  digit=n%10\n",
        "  rev=(rev*10)+digit\n",
        "  n=n//10\n",
        "print(\"Reverse of the number is:\",rev)\n"
      ],
      "metadata": {
        "colab": {
          "base_uri": "https://localhost:8080/"
        },
        "id": "qohm37zdBPQC",
        "outputId": "4336e27b-fad2-4f18-d583-d24220bfa3b7"
      },
      "execution_count": null,
      "outputs": [
        {
          "output_type": "stream",
          "name": "stdout",
          "text": [
            "Enter a number:1427\n",
            "Reverse of the number is: 7241\n"
          ]
        }
      ]
    },
    {
      "cell_type": "markdown",
      "source": [
        "**13.Sum of the given series,up to n terms S=1-4+9-16...**"
      ],
      "metadata": {
        "id": "rFC4GCLNCaL6"
      }
    },
    {
      "cell_type": "code",
      "source": [
        "sum=0\n",
        "n=int(input(\"Enter number of elements:\"))\n",
        "while n!=0:\n",
        "  sq=n*n\n",
        "  if sq%2==0:\n",
        "    sum+=(-sq)\n",
        "  else:\n",
        "    sum+=(sq)\n",
        "  n-=1\n",
        "print(\"Sum of the sequence:\",sum)"
      ],
      "metadata": {
        "colab": {
          "base_uri": "https://localhost:8080/"
        },
        "id": "jlWaaQHkCal1",
        "outputId": "d139cfa9-9d5b-4e3d-80d2-70f354f04b19"
      },
      "execution_count": null,
      "outputs": [
        {
          "output_type": "stream",
          "name": "stdout",
          "text": [
            "Enter number of elements:2\n",
            "Sum of the sequence: -3\n"
          ]
        }
      ]
    },
    {
      "cell_type": "markdown",
      "source": [
        "**14.To print sum of the factors of a number**"
      ],
      "metadata": {
        "id": "CO6VTMP1D7yJ"
      }
    },
    {
      "cell_type": "code",
      "source": [
        "sum=0\n",
        "n=int(input(\"Enter a number:\"))\n",
        "for i in range(1,n):\n",
        "  if n%i==0:\n",
        "    sum+=i\n",
        "  i+=1\n",
        "print(\"Sum of factors of given number is:\",sum)"
      ],
      "metadata": {
        "colab": {
          "base_uri": "https://localhost:8080/"
        },
        "id": "7z_ckWo7D94r",
        "outputId": "4a995e43-1049-4bf6-9154-80a276ecd0ba"
      },
      "execution_count": null,
      "outputs": [
        {
          "output_type": "stream",
          "name": "stdout",
          "text": [
            "Enter a number:10\n",
            "Sum of factors of given number is: 8\n"
          ]
        }
      ]
    },
    {
      "cell_type": "markdown",
      "source": [
        "**15.Print sum of n natural numbers**"
      ],
      "metadata": {
        "id": "bkhw3kJoEv3F"
      }
    },
    {
      "cell_type": "code",
      "source": [
        "n=int(input(\"Enter a number:\"))\n",
        "sum=0\n",
        "for i in range(1,n+1):\n",
        "  sum+=i\n",
        "  i+=1\n",
        "print(\"Sum of n natural numbers:\",sum)"
      ],
      "metadata": {
        "colab": {
          "base_uri": "https://localhost:8080/"
        },
        "id": "MSWp_9h2EzUr",
        "outputId": "a7ff72e3-ac7f-4857-f7a1-bece1f39ef9c"
      },
      "execution_count": null,
      "outputs": [
        {
          "output_type": "stream",
          "name": "stdout",
          "text": [
            "Enter a number:4\n",
            "Sum of n natural numbers: 10\n"
          ]
        }
      ]
    }
  ]
}