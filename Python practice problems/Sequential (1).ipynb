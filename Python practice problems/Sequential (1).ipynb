{
  "nbformat": 4,
  "nbformat_minor": 0,
  "metadata": {
    "colab": {
      "name": "Sequential.ipynb",
      "provenance": [],
      "collapsed_sections": []
    },
    "kernelspec": {
      "name": "python3",
      "display_name": "Python 3"
    },
    "language_info": {
      "name": "python"
    }
  },
  "cells": [
    {
      "cell_type": "markdown",
      "source": [
        "**ASSIGNMENT ON SEQUENTIAL PROBLEMS**\n",
        "\n",
        "\n",
        "\n"
      ],
      "metadata": {
        "id": "wZOMOQqOYLTJ"
      }
    },
    {
      "cell_type": "markdown",
      "source": [
        "*1.Write a program to print the Average of three numbers*"
      ],
      "metadata": {
        "id": "h8nzwUvDZR2x"
      }
    },
    {
      "cell_type": "code",
      "execution_count": null,
      "metadata": {
        "colab": {
          "base_uri": "https://localhost:8080/"
        },
        "id": "ofUKj7ttXed6",
        "outputId": "1245a2ea-e53a-484a-aa06-ff2522d347f1"
      },
      "outputs": [
        {
          "output_type": "stream",
          "name": "stdout",
          "text": [
            "Enter the first number:2\n",
            "Enter the second number:4\n",
            "Enter the third number:6\n",
            "Average of the given 3 numbers:\n",
            "4.0\n"
          ]
        }
      ],
      "source": [
        "a=int(input(\"Enter the first number:\"))\n",
        "b=int(input(\"Enter the second number:\"))\n",
        "c=int(input(\"Enter the third number:\"))\n",
        "sum=a+b+c\n",
        "avg=sum/3\n",
        "print(\"Average of the given 3 numbers:\")\n",
        "print(avg)"
      ]
    },
    {
      "cell_type": "markdown",
      "source": [
        "*2.Write a program to print the sum and average of three numbers*"
      ],
      "metadata": {
        "id": "PJ2agot9cYoA"
      }
    },
    {
      "cell_type": "code",
      "source": [
        "a=int(input(\"Enter the first number:\"))\n",
        "b=int(input(\"Enter the second number:\"))\n",
        "c=int(input(\"Enter the third number:\"))\n",
        "sum=a+b+c\n",
        "avg=sum/3\n",
        "print(\"Sum of three numbers:\",sum)\n",
        "print(\"Average of the given 3 numbers:\",avg)"
      ],
      "metadata": {
        "colab": {
          "base_uri": "https://localhost:8080/"
        },
        "id": "o8bffXYSduyK",
        "outputId": "9aba29af-6a43-4f78-c772-c650198382e9"
      },
      "execution_count": null,
      "outputs": [
        {
          "output_type": "stream",
          "name": "stdout",
          "text": [
            "Enter the first number:5\n",
            "Enter the second number:4\n",
            "Enter the third number:8\n",
            "Sum of three numbers: 17\n",
            "Average of the given 3 numbers: 5.666666666666667\n"
          ]
        }
      ]
    },
    {
      "cell_type": "markdown",
      "source": [
        "*3.Write a program to convert the time entered in seconds to hours,minutes and seconds*"
      ],
      "metadata": {
        "id": "J59Vrl38eSSd"
      }
    },
    {
      "cell_type": "code",
      "source": [
        "no_sec=int(input(\"Enter no of seconds:\"))\n",
        "no_sec=no_sec%(24*3600)\n",
        "hour=no_sec//3600\n",
        "no_sec%=3600\n",
        "minutes=no_sec//60\n",
        "no_sec%=60\n",
        "print(\"Hours:\",hour)\n",
        "print(\"Minutes:\",minutes)\n",
        "print(\"Seconds:\",no_sec)"
      ],
      "metadata": {
        "colab": {
          "base_uri": "https://localhost:8080/"
        },
        "id": "ky5e_NzRekE1",
        "outputId": "f1ff7eac-1dd2-4834-dfde-5f28754f9762"
      },
      "execution_count": null,
      "outputs": [
        {
          "output_type": "stream",
          "name": "stdout",
          "text": [
            "Enter no of seconds:3605\n",
            "Hours: 1\n",
            "Minutes: 0\n",
            "Seconds: 5\n"
          ]
        }
      ]
    },
    {
      "cell_type": "markdown",
      "source": [
        "*4.Write a program to print area and perimeter of a triangle*"
      ],
      "metadata": {
        "id": "viqfCe6temLu"
      }
    },
    {
      "cell_type": "code",
      "source": [
        "print(\"Area and perimeter of a triangle\")\n",
        "a=int(input(\"Enter first side:\"))\n",
        "b=int(input(\"Enter second side:\"))\n",
        "c=int(input(\"Enter third side:\"))\n",
        "s=(a+b+c)/2\n",
        "sum=(s*(s-a)*(s-b)*(s-c))\n",
        "area=sum**0.5\n",
        "perimeter=a+b+c\n",
        "print(\"Area of the triangle is:\",area)\n",
        "print(\"Perimeter of the triangle is:\",perimeter)"
      ],
      "metadata": {
        "colab": {
          "base_uri": "https://localhost:8080/"
        },
        "id": "i-pyyVYHexlY",
        "outputId": "adbda05e-fad4-47e0-a420-8c3c77ec9465"
      },
      "execution_count": null,
      "outputs": [
        {
          "output_type": "stream",
          "name": "stdout",
          "text": [
            "Area and perimeter of a triangle\n",
            "Enter first side:3\n",
            "Enter second side:4\n",
            "Enter third side:5\n",
            "Area of the triangle is: 6.0\n",
            "Perimeter of the triangle is: 12\n"
          ]
        }
      ]
    },
    {
      "cell_type": "markdown",
      "source": [
        "*5.Write a program to find area of circle*"
      ],
      "metadata": {
        "id": "RCv2K_TehL56"
      }
    },
    {
      "cell_type": "code",
      "source": [
        "print(\"Area of circle:\")\n",
        "r=int(input(\"Enter radius of the circle:\"))\n",
        "area=3.14*r*r\n",
        "print(\"Area of the circle with given radius:\",area)"
      ],
      "metadata": {
        "colab": {
          "base_uri": "https://localhost:8080/"
        },
        "id": "BMK_OxGBhUdN",
        "outputId": "2c70dceb-ec0b-4b61-b123-05d127c74290"
      },
      "execution_count": null,
      "outputs": [
        {
          "output_type": "stream",
          "name": "stdout",
          "text": [
            "Area of circle:\n",
            "Enter radius of the circle:2\n",
            "Area of the circle with given radius: 12.56\n"
          ]
        }
      ]
    },
    {
      "cell_type": "markdown",
      "source": [
        "*6.Write a program to swap two unequal numbers without using third variable*"
      ],
      "metadata": {
        "id": "eynzO5TCi_LE"
      }
    },
    {
      "cell_type": "code",
      "source": [
        "a=int(input(\"Enter the first number:\"))\n",
        "b=int(input(\"Enter the second number:\"))\n",
        "a=a+b\n",
        "b=a-b\n",
        "a=a-b\n",
        "print(\"After swapping:\")\n",
        "print(\"First number:\",a)\n",
        "print(\"Second number:\",b)"
      ],
      "metadata": {
        "colab": {
          "base_uri": "https://localhost:8080/"
        },
        "id": "orQC3VZLjfIj",
        "outputId": "12c85c75-0837-4b15-bd53-479d9dbfe6f7"
      },
      "execution_count": null,
      "outputs": [
        {
          "output_type": "stream",
          "name": "stdout",
          "text": [
            "Enter the first number:5\n",
            "Enter the second number:3\n",
            "After swapping:\n",
            "First number: 3\n",
            "Second number: 5\n"
          ]
        }
      ]
    },
    {
      "cell_type": "markdown",
      "source": [
        "*7.Write a program to display sum, difference, product, quotient*\n",
        " *and remainder of two unequal numbers*"
      ],
      "metadata": {
        "id": "uTmucB78kiEc"
      }
    },
    {
      "cell_type": "code",
      "source": [
        "a=int(input(\"Enter the first number:\"))\n",
        "b=int(input(\"Enter the second number:\"))\n",
        "sum=a+b\n",
        "difference=a-b\n",
        "product=a*b\n",
        "quotient=a/b\n",
        "remainder=a%b\n",
        "print(\"Sum:\",sum)\n",
        "print(\"Difference:\",difference)\n",
        "print(\"Product:\",product)\n",
        "print(\"Quotient:\",quotient)\n",
        "print(\"Remainder:\",remainder)"
      ],
      "metadata": {
        "colab": {
          "base_uri": "https://localhost:8080/"
        },
        "id": "_Q0f7jkZlEVZ",
        "outputId": "bd01da5e-d88f-410d-a1e1-60a0c78bb8c5"
      },
      "execution_count": null,
      "outputs": [
        {
          "output_type": "stream",
          "name": "stdout",
          "text": [
            "Enter the first number:7\n",
            "Enter the second number:5\n",
            "Sum: 12\n",
            "Difference: 2\n",
            "Product: 35\n",
            "Quotient: 1.4\n",
            "Remainder: 2\n"
          ]
        }
      ]
    },
    {
      "cell_type": "markdown",
      "source": [
        "*8.Write a program to enter the number of days and print days, months and year*"
      ],
      "metadata": {
        "id": "Fa8U6XT7oPsm"
      }
    },
    {
      "cell_type": "code",
      "source": [
        "no_days=int(input(\"Enter number of days:\"))\n",
        "years=no_days//365\n",
        "months=no_days//30.5\n",
        "days=(no_days%365)%7\n",
        "print(\"Years:\",years)\n",
        "print(\"Months:\",months)\n",
        "print(\"Days:\",days)"
      ],
      "metadata": {
        "colab": {
          "base_uri": "https://localhost:8080/"
        },
        "id": "szeTMEwQpBoO",
        "outputId": "24b3536b-672b-4975-a11f-2537ea10efe4"
      },
      "execution_count": null,
      "outputs": [
        {
          "output_type": "stream",
          "name": "stdout",
          "text": [
            "Enter number of days:400\n",
            "Years: 1\n",
            "Months: 13.0\n",
            "Days: 0\n"
          ]
        }
      ]
    }
  ]
}