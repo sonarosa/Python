{
  "nbformat": 4,
  "nbformat_minor": 0,
  "metadata": {
    "colab": {
      "name": "Decision.ipynb",
      "provenance": [],
      "collapsed_sections": []
    },
    "kernelspec": {
      "name": "python3",
      "display_name": "Python 3"
    },
    "language_info": {
      "name": "python"
    }
  },
  "cells": [
    {
      "cell_type": "markdown",
      "source": [
        "Decision making problems"
      ],
      "metadata": {
        "id": "0MxDhetNma5V"
      }
    },
    {
      "cell_type": "markdown",
      "source": [
        "1.Biggest of two numbers"
      ],
      "metadata": {
        "id": "8NUdo2sclX4A"
      }
    },
    {
      "cell_type": "code",
      "execution_count": null,
      "metadata": {
        "colab": {
          "base_uri": "https://localhost:8080/"
        },
        "id": "Y7pivFV9lSN_",
        "outputId": "59628100-4b5d-4d77-e601-846d4afd29e6"
      },
      "outputs": [
        {
          "output_type": "stream",
          "name": "stdout",
          "text": [
            "Enter first number:5\n",
            "Enter second number:6\n",
            "6\n"
          ]
        }
      ],
      "source": [
        "a=int(input(\"Enter first number:\"))\n",
        "b=int(input(\"Enter second number:\"))\n",
        "if a>b:\n",
        "   print(a)\n",
        "else: \n",
        "  print(b)"
      ]
    },
    {
      "cell_type": "markdown",
      "source": [
        "2.Smallest of three numbers"
      ],
      "metadata": {
        "id": "2EquI4ObrA6x"
      }
    },
    {
      "cell_type": "code",
      "source": [
        "a=int(input(\"Enter first number:\"))\n",
        "b=int(input(\"Enter second number:\"))\n",
        "c=int(input(\"Enter third number:\"))\n",
        "if a<b and a<c:\n",
        "  print(\"Smallest of three is:\",a)\n",
        "elif b<c and b<a:\n",
        "  print(\"Smallest of three is:\",b)\n",
        "else:\n",
        "  print(\"Smallest of three is:\",c)"
      ],
      "metadata": {
        "colab": {
          "base_uri": "https://localhost:8080/"
        },
        "id": "NOm97b7nrHGT",
        "outputId": "427b5828-b32f-4070-d9bb-1a0d364ee2f6"
      },
      "execution_count": null,
      "outputs": [
        {
          "output_type": "stream",
          "name": "stdout",
          "text": [
            "Enter first number:1\n",
            "Enter second number:5\n",
            "Enter third number:3\n",
            "Smallest of three is: 1\n"
          ]
        }
      ]
    },
    {
      "cell_type": "markdown",
      "source": [
        "3.Distance between two points"
      ],
      "metadata": {
        "id": "qh7_lp94r5jF"
      }
    },
    {
      "cell_type": "code",
      "source": [
        "x1=int(input(\"Enter the point x1:\"))\n",
        "y1=int(input(\"Enter the point y1:\"))\n",
        "x2=int(input(\"Enter the point x2:\"))\n",
        "y2=int(input(\"Enter the point y2:\"))\n",
        "x=(x2-x1)*(x2-x1)\n",
        "y=(y2-y1)*(y2-y1)\n",
        "distance=(x+y)**0.5\n",
        "print(\"Distance between the points:\",distance)"
      ],
      "metadata": {
        "colab": {
          "base_uri": "https://localhost:8080/"
        },
        "id": "Fj0EWmyem1-T",
        "outputId": "7968f381-1666-4e64-a061-15b64af02e77"
      },
      "execution_count": null,
      "outputs": [
        {
          "output_type": "stream",
          "name": "stdout",
          "text": [
            "Enter the point x1:1\n",
            "Enter the point y1:2\n",
            "Enter the point x2:5\n",
            "Enter the point y2:6\n",
            "Distance between the points: 5.656854249492381\n"
          ]
        }
      ]
    },
    {
      "cell_type": "markdown",
      "source": [
        "4.Check given number is two digit or not"
      ],
      "metadata": {
        "id": "Hemwy_Q1uNxb"
      }
    },
    {
      "cell_type": "code",
      "source": [
        "num=int(input(\"Enter the number:\"))\n",
        "if num>=10 and num<=99:\n",
        "  print(\"Number is a two digit number\")\n",
        "else:\n",
        " print(\"Number not a two digit\")\n",
        " "
      ],
      "metadata": {
        "colab": {
          "base_uri": "https://localhost:8080/"
        },
        "id": "GG8ExZDyuVY_",
        "outputId": "47257c09-b533-4732-f25e-35f9b5053402"
      },
      "execution_count": null,
      "outputs": [
        {
          "output_type": "stream",
          "name": "stdout",
          "text": [
            "Enter the number:15\n",
            "Number is a two digit number\n"
          ]
        }
      ]
    },
    {
      "cell_type": "markdown",
      "source": [
        "5.Check given number is positive,negative or zero"
      ],
      "metadata": {
        "id": "FBUwV6epu1qv"
      }
    },
    {
      "cell_type": "code",
      "source": [
        "n=int(input(\"Enter the number:\"))\n",
        "if n>0:\n",
        "  print(\"Number is positive\")\n",
        "elif n<0:\n",
        "  print(\"Number is negative\")\n",
        "else:\n",
        "  print(\"Number is zero\")"
      ],
      "metadata": {
        "colab": {
          "base_uri": "https://localhost:8080/"
        },
        "id": "3CeVHIs4uYD-",
        "outputId": "ea154bf4-9cc8-447a-d4b0-20aea233f452"
      },
      "execution_count": null,
      "outputs": [
        {
          "output_type": "stream",
          "name": "stdout",
          "text": [
            "Enter the number:-5\n",
            "Number is negative\n"
          ]
        }
      ]
    },
    {
      "cell_type": "markdown",
      "source": [
        "6.Check number is multiple of other"
      ],
      "metadata": {
        "id": "U0LYKVgTvdHx"
      }
    },
    {
      "cell_type": "code",
      "source": [
        "a=int(input(\"Enter the first number:\"))\n",
        "b=int(input(\"Enter the second number:\"))\n",
        "if a%b==0:\n",
        "  print(\"First Number is multiple of another\")\n",
        "elif b%a==0:\n",
        "  print(\"Second number is multiple a first\")\n",
        "else:\n",
        "  print(\"Not a multiple\")"
      ],
      "metadata": {
        "colab": {
          "base_uri": "https://localhost:8080/"
        },
        "id": "e-sz0TzgveVV",
        "outputId": "bd4ab163-88ef-477b-af8b-9a6b0d1c57c4"
      },
      "execution_count": null,
      "outputs": [
        {
          "output_type": "stream",
          "name": "stdout",
          "text": [
            "Enter the first number:10\n",
            "Enter the second number:5\n",
            "First Number is multiple of another\n"
          ]
        }
      ]
    },
    {
      "cell_type": "markdown",
      "source": [
        "7.Smallest of two digit number"
      ],
      "metadata": {
        "id": "KpACIsSIwbcv"
      }
    },
    {
      "cell_type": "code",
      "source": [
        "n=int(input(\"Enter the number:\"))\n",
        "n1=n\n",
        "d1=n%10\n",
        "d2=n//10\n",
        "s=d2//10\n",
        "if s==0:\n",
        "  if d1>d2:\n",
        "    print(\"Smallest number is\",d2)\n",
        "  else: \n",
        "    print(\"Smallest number is\",d1)\n",
        "else:\n",
        "  print(\"Number entered is not a two digit\")\n"
      ],
      "metadata": {
        "id": "uEhYPNxEwb9y",
        "colab": {
          "base_uri": "https://localhost:8080/"
        },
        "outputId": "cfbc5681-ee10-4902-c73a-8c706f46e5d7"
      },
      "execution_count": null,
      "outputs": [
        {
          "output_type": "stream",
          "name": "stdout",
          "text": [
            "Enter the number:23\n",
            "Smallest number is 2\n"
          ]
        }
      ]
    },
    {
      "cell_type": "markdown",
      "source": [
        "8.Nature of solution of quadratic equation"
      ],
      "metadata": {
        "id": "lHKyRvZbkRqd"
      }
    },
    {
      "cell_type": "code",
      "source": [
        "r1=0\n",
        "r2=0\n",
        "a=int(input(\"Enter value of a:\"))\n",
        "b=int(input(\"Enter value of b:\"))\n",
        "c=int(input(\"Enter value of c:\"))\n",
        "d=(b*b-(4*a*c))\n",
        "print(\"Quadratic equation:\",a,\"x^2\",-b,\"x+\",c)\n",
        "if d>0:\n",
        "  print(\"Roots are real and distinct\")\n",
        "  r1=((-b+(d**0.5))/(2*a))\n",
        "  r2=((-b-(d**0.5))/(2*a))\n",
        "  print(\"Roots are:\",r1,\",\",r2)\n",
        "elif d==0:\n",
        "  print(\"Roots are equal\")\n",
        "  r1=(-b+(d**0.5))/(2*a)\n",
        "  r2=(-b+(d**0.5))/(2*a)\n",
        "  print(\"Roots are:\",r1,\",\",r2)\n",
        "else:\n",
        "  print(\"Roots are complex\")"
      ],
      "metadata": {
        "colab": {
          "base_uri": "https://localhost:8080/"
        },
        "id": "rI3BEUlohjX0",
        "outputId": "28754da9-73cc-4d47-a10a-0ddada5fcdd9"
      },
      "execution_count": null,
      "outputs": [
        {
          "output_type": "stream",
          "name": "stdout",
          "text": [
            "Enter value of a:1\n",
            "Enter value of b:3\n",
            "Enter value of c:2\n",
            "Quadratic equation: 1 x^2 -3 x+ 2\n",
            "Roots are real and distinct\n",
            "Roots are: -1.0 , -2.0\n"
          ]
        }
      ]
    }
  ]
}